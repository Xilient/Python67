{
  "nbformat": 4,
  "nbformat_minor": 0,
  "metadata": {
    "colab": {
      "provenance": [],
      "include_colab_link": true
    },
    "kernelspec": {
      "name": "python3",
      "display_name": "Python 3"
    },
    "language_info": {
      "name": "python"
    }
  },
  "cells": [
    {
      "cell_type": "markdown",
      "metadata": {
        "id": "view-in-github",
        "colab_type": "text"
      },
      "source": [
        "<a href=\"https://colab.research.google.com/github/Xilient/Python67/blob/main/Lab3_67015165.ipynb\" target=\"_parent\"><img src=\"https://colab.research.google.com/assets/colab-badge.svg\" alt=\"Open In Colab\"/></a>"
      ]
    },
    {
      "cell_type": "markdown",
      "source": [
        "# Exercise 3\n",
        "\n",
        "3.1 จากข้อมูลใน List ให้หาผลบวกเฉพาะตัวเลขคู่ โดยใช้ While Loop\n",
        "\n",
        "list1 = [1, 2, 3, 4, 5, 6, 7, 8, 9, 11, 13]\n",
        "\n"
      ],
      "metadata": {
        "id": "8LZVzcOUVMor"
      }
    },
    {
      "cell_type": "code",
      "execution_count": null,
      "metadata": {
        "id": "2cTrxjMXUE2n",
        "outputId": "18bf9343-c7e2-4d96-cf93-6ec860f9dbf9",
        "colab": {
          "base_uri": "https://localhost:8080/",
          "height": 141
        }
      },
      "outputs": [
        {
          "output_type": "error",
          "ename": "NameError",
          "evalue": "name 'a' is not defined",
          "traceback": [
            "\u001b[0;31m---------------------------------------------------------------------------\u001b[0m",
            "\u001b[0;31mNameError\u001b[0m                                 Traceback (most recent call last)",
            "\u001b[0;32m<ipython-input-4-3f786850e387>\u001b[0m in \u001b[0;36m<cell line: 1>\u001b[0;34m()\u001b[0m\n\u001b[0;32m----> 1\u001b[0;31m \u001b[0ma\u001b[0m\u001b[0;34m\u001b[0m\u001b[0;34m\u001b[0m\u001b[0m\n\u001b[0m",
            "\u001b[0;31mNameError\u001b[0m: name 'a' is not defined"
          ]
        }
      ],
      "source": [
        "list1 = [1, 2, 3, 4, 5, 6, 7, 8, 9, 11, 13]\n",
        "\n",
        "for i in list1:\n",
        "  if i%2 == 0:\n",
        "    print(i)"
      ]
    },
    {
      "cell_type": "markdown",
      "source": [
        "3.2 จากข้อมูลใน List ให้หาตัวเลขที่มีค่ามากที่สุดเป็นอันดับ 2 ใน List โดยใช้ While Loop\n",
        "\n",
        "list = [-5, 7, 10, 1, 2, 5, 8, 100]\n"
      ],
      "metadata": {
        "id": "uPvbrsO_Vimb"
      }
    },
    {
      "cell_type": "code",
      "source": [
        "lst = [-5, 7, 10, 1, 2, 5, 8, 100]\n",
        "max_var = max(lst)\n",
        "max_sec = 0\n",
        "\n",
        "for i in lst:\n",
        "    if i < max_var:\n",
        "        if max_sec < i:\n",
        "            max_sec = i\n",
        "\n",
        "print(max_sec)"
      ],
      "metadata": {
        "id": "iUeJ91zfVr1Z"
      },
      "execution_count": null,
      "outputs": []
    },
    {
      "cell_type": "markdown",
      "source": [
        "3.3 เขียนโปรแกรมรับค่า n แล้วคำนวณค่าต่อไปนี้\n",
        "\n",
        "$1/1^2 + 1/2^2 + 1/3^2 + 1/4^2 + 1/5^2 + … +  1/n^2$\n"
      ],
      "metadata": {
        "id": "udBZzWe9VsU7"
      }
    },
    {
      "cell_type": "code",
      "source": [
        "n = int(input(\"\"))\n",
        "res = 0\n",
        "\n",
        "for i in range(1, n+1):\n",
        "    res += (1 / (i**2))\n",
        "\n",
        "print(res)"
      ],
      "metadata": {
        "id": "xtBw7zuxWEZ4"
      },
      "execution_count": null,
      "outputs": []
    },
    {
      "cell_type": "markdown",
      "source": [
        "3.4 จากข้อมูลใน List ให้ตรวจสอบว่า ข้อมูลในลิสต์ s เรียงลำดับจากน้อยไปมากหรือไม่ ตอบเป็น True, False\n",
        "\n",
        "\t[1,2,3,4,5], [5,4,3,2,1]\n"
      ],
      "metadata": {
        "id": "o-6AnE5zWFJJ"
      }
    },
    {
      "cell_type": "code",
      "source": [
        "lst = [[1,2,3,4,5], [5,4,3,2,1]]\n",
        "res = [False, False]\n",
        "for i,e in enumerate(lst):\n",
        "    #print(i, e)\n",
        "    for j in range(len(e)):\n",
        "        if (j < len(e) - 1) and e[j] > e[j+1]:\n",
        "            res[i] = False\n",
        "            break\n",
        "        else:\n",
        "            res[i] = True\n",
        "\n",
        "print(res)"
      ],
      "metadata": {
        "id": "LYG2sGGgWNei"
      },
      "execution_count": null,
      "outputs": []
    },
    {
      "cell_type": "markdown",
      "source": [
        "3.5  ให้ x เป็นลิสต์เก็บคะแนน ต้องการปรับช่องที่มีค่าน้อยกว่า 30 ให้มีค่าเพิ่มอีก 10% แสดงผลลัพธ์ เป็น List\n",
        "\n",
        "\tx = [60, 70, 72, 65, 55, 43, 20, 90, 12]\n"
      ],
      "metadata": {
        "id": "Hv-fE32hWOBd"
      }
    },
    {
      "cell_type": "code",
      "source": [],
      "metadata": {
        "id": "F4gUmTNrDiuB"
      },
      "execution_count": null,
      "outputs": []
    },
    {
      "cell_type": "code",
      "source": [
        "x = [60, 70, 72, 65, 55, 43, 20, 90, 12]\n",
        "\n",
        "for i in range(len(x)):\n",
        "    if x[i] < 30:\n",
        "        x[i] = x[i] + (x[i] * 0.1)\n",
        "\n",
        "print(x)"
      ],
      "metadata": {
        "id": "BSFOJ_8GWTtL"
      },
      "execution_count": null,
      "outputs": []
    },
    {
      "cell_type": "markdown",
      "source": [
        "3.6 ต้องการหาผลรวมของคะแนนที่เก็บในลิสต์ x โดยขอไม่รวมคะแนนที่น้อยสุดอันดับ 2\n",
        "\n",
        "\tx = [15, 80, 75, 62, 55, 43, 99, 67, 10]\n"
      ],
      "metadata": {
        "id": "IDw88nQbWUTw"
      }
    },
    {
      "cell_type": "code",
      "source": [
        "x = [15, 80, 75, 62, 55, 43, 99, 67, 10]\n",
        "\n",
        "min_var = min(x)\n",
        "min_sec = 0\n",
        "c = 0\n",
        "res = 0\n",
        "\n",
        "#Check Min-sec\n",
        "for i in x:\n",
        "    if c == 0:\n",
        "        if i > min_var:\n",
        "            min_sec = i\n",
        "    c+=1\n",
        "\n",
        "res = sum(x) - min_sec\n",
        "print(res)\n"
      ],
      "metadata": {
        "id": "Aool1F22WZKI"
      },
      "execution_count": null,
      "outputs": []
    },
    {
      "cell_type": "markdown",
      "source": [
        "3.7 จากข้อมูลใน List ให้แสดง string ที่มีความยาวมากกว่า 2 และมีอักษรตัวแรกกับตัวสุดท้ายเหมือนกัน แสดงบรรทัดละ 1 ตัว\n",
        "\n",
        "\tlst = ['abba', 'a', 'aa', 'alcaza', 'python', 'stores', 'program', 'execute']\n"
      ],
      "metadata": {
        "id": "92oZ0IQdWZkF"
      }
    },
    {
      "cell_type": "code",
      "source": [
        "lst = ['abba', 'a', 'aa', 'alcaza', 'python', 'stores', 'program', 'execute']\n",
        "res = ''\n",
        "for i in lst:\n",
        "    if len(i) > 2:\n",
        "        if i[0] == i[-1]:\n",
        "            print(i)\n",
        "\n"
      ],
      "metadata": {
        "id": "i3vr0x1vWiHH"
      },
      "execution_count": null,
      "outputs": []
    },
    {
      "cell_type": "markdown",
      "source": [
        "3.8 จากข้อมูลใน List ให้ลบข้อมูลที่มีซ้ำกันให้เหลือเพียงตัวเดียว ให้แสดงผลเป็น list เช่น\n",
        "\n",
        "[‘a’,’a’] => [‘a’]\n",
        "\n",
        "lst = ['a', 'a', 'b', 'a', 'b', 'c', 'd']\n"
      ],
      "metadata": {
        "id": "QicYHZbcWi8U"
      }
    },
    {
      "cell_type": "code",
      "source": [
        "lst = ['a', 'a', 'b', 'a', 'b', 'c', 'd']\n",
        "\n",
        "\n",
        "for i in lst:\n",
        "    n = lst.count(i)\n",
        "    if n > 1:\n",
        "        for j in range(n-1):\n",
        "            lst.remove(i)\n",
        "\n",
        "print(lst)"
      ],
      "metadata": {
        "id": "saXxuMceWzd2"
      },
      "execution_count": null,
      "outputs": []
    },
    {
      "cell_type": "markdown",
      "source": [
        "3.9 จากข้อมูลใน List ให้แสดงว่าแต่ละข้อมูลใน List มีจำนวนเท่าไร คือ มีซ้ำกันกี่ตัวใน List  ให้แสดงบรรทัดละตัว เช่น\n",
        "\n",
        "\t[1, 2, 3, 4, 1, 2, 3, 1, 2, 1]\n",
        "\t1 = 4\n",
        "\t2 = 3\n",
        "\t3 = 2\n",
        "\t4 = 1\n",
        "  \n",
        "\tlst = [1,2,3,4,5,1,2,3,4,1,2,3,1,2,1]"
      ],
      "metadata": {
        "id": "Dl6OEM9nWz8s"
      }
    },
    {
      "cell_type": "code",
      "source": [
        "lst = [1, 2, 3, 4, 5, 1, 2, 3, 4, 1, 2, 3, 1, 2, 1]\n",
        "check = []\n",
        "res = ''\n",
        "\n",
        "\n",
        "for i in lst:\n",
        "    if i not in check:\n",
        "        n = lst.count(i)\n",
        "        res += str(i) + \" = \" + str(n) + '\\n'\n",
        "        check.append(i)\n",
        "\n",
        "print(res)"
      ],
      "metadata": {
        "id": "Dm0dAivtW7vQ"
      },
      "execution_count": null,
      "outputs": []
    },
    {
      "cell_type": "markdown",
      "source": [
        "1.\tเขียนโปรแกรมเพื่อหาผลบวกของอนุกรม 5+10+15+20+… จนถึง n เมื่อ n เป็นตัวเลขที่รับเข้ามาทางคีย์บอร์ด"
      ],
      "metadata": {
        "id": "GgbgWOV6W8Nn"
      }
    },
    {
      "cell_type": "code",
      "source": [
        "n = int(input(''))\n",
        "res = 0\n",
        "for i in range(1, n+1):\n",
        "    res = res + (5 * i)\n",
        "\n",
        "print(res)"
      ],
      "metadata": {
        "id": "9cCHZsLhXGKm"
      },
      "execution_count": null,
      "outputs": []
    },
    {
      "cell_type": "markdown",
      "source": [
        "2.\tจงเขียนโปรแกรมที่จะหาตัวเลขระหว่าง 2000-3200 ที่หารด้วย 7 ลงตัว แต่หารด้วย 5 ไม่ลงตัว\n",
        "การแสดงผลให้แสดงตัวเลขและคั่นด้วยเครื่องหมาย , ในบรรทัดเดียว\n",
        "\n",
        "2002,2009,2016,2023,2037,2044,2051,2058,2072,2079,2086,2093,2107,2114,2121,2128,2142,2149,2156,2163,2177,2184,2191,2198,2212,2219,2226,2233,2247,2254,2261,2268,2282,2289,2296,2303,2317,2324,2331,2338,2352,2359,2366,2373,2387,2394,2401,2408,2422,2429,2436,2443,2457,2464,2471,2478,2492,2499,2506,2513,2527,2534,2541,2548,2562,2569,2576,2583,2597,2604,2611,2618,2632,2639,2646,2653,2667,2674,2681,2688,2702,2709,2716,2723,2737,2744,2751,2758,2772,2779,2786,2793,2807,2814,2821,2828,2842,2849,2856,2863,2877,2884,2891,2898,2912,2919,2926,2933,2947,2954,2961,2968,2982,2989,2996,3003,3017,3024,3031,3038,3052,3059,3066,3073,3087,3094,3101,3108,3122,3129,3136,3143,3157,3164,3171,3178,3192,3199,"
      ],
      "metadata": {
        "id": "aujapFNTXGsV"
      }
    },
    {
      "cell_type": "code",
      "source": [
        "res = ''\n",
        "for i in range(2000, 3201):\n",
        "    if(i % 7 == 0 and i % 5 != 0):\n",
        "        res += str(i) + ','\n",
        "\n",
        "print(res[:-1])\n"
      ],
      "metadata": {
        "id": "L-kIF3-nXJqR"
      },
      "execution_count": null,
      "outputs": []
    },
    {
      "cell_type": "markdown",
      "source": [
        "3.\tจากข้อมูลใน List ต้องการนับว่า มีข้อมูลกี่คู่ในลิสต์ที่ตัวทางซ้ายมีค่ามากกว่าตัวทางขวา (ไม่จำเป็นต้องอยู่ติดกัน)\n",
        "\n",
        "x = [1, 5, 4, 2, 1]"
      ],
      "metadata": {
        "id": "FCZpmtuFXKUl"
      }
    },
    {
      "cell_type": "code",
      "source": [
        "x = [1,5,4,2,1]\n",
        "duo_n = 0\n",
        "for i in range(len(x)):\n",
        "    for j in range(i+1,len(x)):\n",
        "        if x[i] > x[j]:\n",
        "            duo_n += 1\n",
        "\n",
        "print(duo_n)"
      ],
      "metadata": {
        "id": "VBgfWEXuXjQH"
      },
      "execution_count": null,
      "outputs": []
    },
    {
      "cell_type": "markdown",
      "source": [
        "4.\tให้ตรวจสอบว่า String ที่รับเข้ามาผ่านคีย์บอร์ด เป็นตัวอักษรพิมพ์เล็ก หรือตัวอักษรพิมพ์ใหญ่ อย่างละกี่ตัว ตอบ 2 บรรทัด พิมพ์เล็ก 1 บรรทัด พิมพ์ใหญ่ 1 บรรทัด\n",
        "\n",
        "klfjslkgD;FGK;LSDKdl;gfk;\n",
        "=> 18,3"
      ],
      "metadata": {
        "id": "UAEC1_jdXjya"
      }
    },
    {
      "cell_type": "markdown",
      "source": [],
      "metadata": {
        "id": "Ga7EV3UPDxM8"
      }
    },
    {
      "cell_type": "code",
      "source": [
        "lower = ['a','b','c','d','e','f','g','h','i','j','k','l','m','n','o','p','q','r','s','t','u','v','w','x','y','z']\n",
        "upper = ['A','B','C','D','E','F','G','H','I','J','K','L','M','N','O','P','Q','R','S','T','U','V','W','X','Y','Z']\n",
        "\n",
        "low_c = 0\n",
        "upp_c = 0\n",
        "\n",
        "input1 = 'klfjslkgD;FGK;LSDKdl;gfk;'\n",
        "out = ''\n",
        "for i in input1:\n",
        "    out += i\n",
        "\n",
        "for i1 in out:\n",
        "    if i1 in lower:\n",
        "        low_c += 1\n",
        "    elif i1 in upper:\n",
        "        upp_c += 1\n",
        "\n",
        "print(f'Lower letter: {low_c} \\nUpper letter: {upp_c}')"
      ],
      "metadata": {
        "id": "rSYwEhjEYY8N"
      },
      "execution_count": null,
      "outputs": []
    },
    {
      "cell_type": "markdown",
      "source": [
        "5.\tจงเขียนโปรแกรมที่หาตัวเลขระหว่าง 1000 และ 3000 ที่ทุกหลักเป็นเลขคู่ (รวม 1000 และ 3000) โดยแสดงผลในรูปแบบตัวเลขคั่นด้วย comma\n",
        "\n",
        "2000,2002,2004,2006,2008,2020,2022,2024,2026,2028,2040,2042,2044,2046,2048,2060,2062,2064,2066,2068,2080,2082,2084,2086,2088,2200,2202,2204,2206,2208,2220,2222,2224,2226,2228,2240,2242,2244,2246,2248,2260,2262,2264,2266,2268,2280,2282,2284,2286,2288,2400,2402,2404,2406,2408,2420,2422,2424,2426,2428,2440,2442,2444,2446,2448,2460,2462,2464,2466,2468,2480,2482,2484,2486,2488,2600,2602,2604,2606,2608,2620,2622,2624,2626,2628,2640,2642,2644,2646,2648,2660,2662,2664,2666,2668,2680,2682,2684,2686,2688,2800,2802,2804,2806,2808,2820,2822,2824,2826,2828,2840,2842,2844,2846,2848,2860,2862,2864,2866,2868,2880,2882,2884,2886,2888,"
      ],
      "metadata": {
        "id": "lBtvmw_sYYX_"
      }
    },
    {
      "cell_type": "code",
      "source": [
        "res = ''\n",
        "for i in range(1000, 3001):\n",
        "    if(i % 2 == 0):\n",
        "        res += str(i) + ','\n",
        "print(res[:-1])"
      ],
      "metadata": {
        "id": "VvChTQMjYqYi"
      },
      "execution_count": null,
      "outputs": []
    },
    {
      "cell_type": "markdown",
      "source": [
        "6.\tในคณิตศาสตร์ ตัวหารร่วมมาก หรือ ห.ร.ม. (greatest common divisor: gcd) ของจำนวนเต็มสองจำนวนซึ่งไม่เป็นศูนย์พร้อมกัน คือจำนวนเต็มที่มากที่สุดที่หารทั้งสองจำนวนลงตัว\n",
        "จงหา ห.ร.ม. ของจำนวนเต็ม 2 จำนวนที่กำหนดให้\n",
        "ข้อมูลนำเข้า\n",
        "บรรทัดแรกเพียงบรรทัดเดียว ประกอบไปด้วยจำนวนเต็มบวกสองจำนวน a และ b มีค่าไม่เกิน 9999\n",
        "ข้อมูลส่งออก\n",
        "ในบรรทัดแรกของข้อมูลส่งออก ให้แสดงค่า ห.ร.ม. ของ a และ b\n",
        "เช่น \tInput : 12 14\t\tOutput : 2\n",
        "\tInput : 7 3\t\tOutput : 1\n",
        "\n",
        "678\n",
        "345\n",
        "=> 3"
      ],
      "metadata": {
        "id": "6TCedRC8YqyU"
      }
    },
    {
      "cell_type": "code",
      "source": [
        "n1 = 678; n2 = 345;\n",
        "\n",
        "while n2 != 0:\n",
        "    n1,n2,= n2, n1%n2\n",
        "\n",
        "print(n1)\n",
        "\n"
      ],
      "metadata": {
        "id": "-GbRv1viD0Gh"
      },
      "execution_count": null,
      "outputs": []
    },
    {
      "cell_type": "markdown",
      "source": [
        "7.\tจงเขียนโปรแกรมที่คำนวณค่าของ a+aa+aaa+aaaa เมื่อรับข้อมูลเป็นตัวเลข 1 หลัก\n",
        "\n",
        "Input : 9\n",
        "\n",
        "Output : 11106 (=9+99+999+9999)\n"
      ],
      "metadata": {
        "id": "DW9riUdiY7KK"
      }
    },
    {
      "cell_type": "code",
      "source": [
        "input1 = 9\n",
        "output = ''\n",
        "s1 = ''\n",
        "\n",
        "if(input1 > 0 and input1 <= 9):\n",
        "    for i in range(5):\n",
        "        s1 += (str(input1) * i) + ' '\n",
        "\n",
        "    n1,n2,n3,n4 = s1.split()\n",
        "    res = int(n1) + int(n2) + int(n3) + int(n4)\n",
        "    s1 = s1.replace(' ', '+')\n",
        "    print(f'= {res} (={s1[1:-1]})')\n",
        "else:\n",
        "    print('Invalid')"
      ],
      "metadata": {
        "id": "iAZlPfC4Y-GG"
      },
      "execution_count": null,
      "outputs": []
    },
    {
      "cell_type": "markdown",
      "source": [
        "8.\tแปลงเลขโรมัน เป็นเลขอารบิก เช่น MMMDCCXXIV = 3724 (ค้นหาวิธีทางทางอินเตอร์เน็ต)\n"
      ],
      "metadata": {
        "id": "G3jPCyruZAZY"
      }
    },
    {
      "cell_type": "code",
      "source": [
        "in1 = 'MMMDCCXXIV'\n",
        "res = 0\n",
        "lst1 = ['I', 'V', 'X','L','C','D','M']\n",
        "lst2 = ['IV', 'IX', 'XL', 'XC','CD', 'CM']\n",
        "\n",
        "for i in in1:\n",
        "    if i == lst1[0]:\n",
        "        res += 1\n",
        "    elif i == lst1[1]:\n",
        "        res += 5\n",
        "    elif i == lst1[2]:\n",
        "        res += 10\n",
        "    elif i == lst1[3]:\n",
        "        res += 50\n",
        "    elif i == lst1[4]:\n",
        "        res += 100\n",
        "    elif i == lst1[5]:\n",
        "        res += 500\n",
        "    elif i == lst1[6]:\n",
        "        res += 1000\n",
        "\n",
        "text =''\n",
        "k = 0\n",
        "while True:\n",
        "    if len(text) != 2:\n",
        "        c = in1.find(lst2[k])\n",
        "        text += in1[c]\n",
        "        k+=1\n",
        "        if len(text) == 2:\n",
        "            #print(text)\n",
        "            if text == lst2[0]:\n",
        "                res -= 6-4\n",
        "            elif text == lst2[1]:\n",
        "                res -= 11-9\n",
        "            elif text == lst2[2]:\n",
        "                res -= 60-40\n",
        "            elif text == lst2[3]:\n",
        "                res -= 110-90\n",
        "            elif text == lst2[4]:\n",
        "                res -= 600-400\n",
        "            elif text == lst2[5]:\n",
        "                res -= 1100-900\n",
        "            break\n",
        "\n",
        "\n",
        "print(res)"
      ],
      "metadata": {
        "id": "6RBWGF4IZGnc"
      },
      "execution_count": null,
      "outputs": []
    },
    {
      "cell_type": "markdown",
      "source": [
        "9.\tอนุกรม Fibonacci คือ อนุกรมที่ตัวที่ 3 เป็นต้นไปเกิดจาก 2 ตัวหน้าบวกกัน จงเขียนโปรแกรมแสดงอนุกรม\n",
        "เช่น ตั้งแต่ 0-1000 คือ 0, 1, 1, 2, 3, 5, 8, 13, 21, 34, 55, 89, 144, 233, 377, 610, 987\n"
      ],
      "metadata": {
        "id": "SJBVkaFHZHKe"
      }
    },
    {
      "cell_type": "code",
      "source": [
        "lst = [0, 1]\n",
        "i = 0\n",
        "\n",
        "while True:\n",
        "    add = lst[i] + lst[i+1]\n",
        "    if add > 1000:\n",
        "        break\n",
        "    lst.append(add)\n",
        "    i += 1\n",
        "\n",
        "print(lst)"
      ],
      "metadata": {
        "id": "Vdtc9KqSZLls"
      },
      "execution_count": null,
      "outputs": []
    },
    {
      "cell_type": "markdown",
      "source": [
        "10.\tให้สร้างโปรแกรม True Love โดยรับชื่อภาษาอังกฤษของ 2 คน จากนั้นค้นหาว่ามีตัวอักษรอยู่ในคำว่า True และ Love รวมกันกี่ตัว จากนั้นนำมาต่อกันเป็น % ตามรูป (ไม่ต้องแสดงเครื่องหมาย %)"
      ],
      "metadata": {
        "id": "1ykDG1H4ZKd4"
      }
    },
    {
      "cell_type": "code",
      "source": [
        "name1 = \"Krystie Lee Yandoli\".lower()\n",
        "name2 = \"Aubrey Drake Graham\".lower()\n",
        "\n",
        "sum1 = 0\n",
        "sum2 = 0\n",
        "\n",
        "lst1 = ['t', 'r', 'u', 'e']\n",
        "lst2 = ['l', 'o','v','e']\n",
        "\n",
        "for i in lst1:\n",
        "    sum1 += name1.count(i)\n",
        "    sum1 += name2.count(i)\n",
        "for j in lst2:\n",
        "    sum2 += name1.count(j)\n",
        "    sum2 += name2.count(j)\n",
        "\n",
        "print(str(sum1)+str(sum2))\n",
        "\n"
      ],
      "metadata": {
        "id": "syOZPpj2ZPaA"
      },
      "execution_count": null,
      "outputs": []
    }
  ]
}