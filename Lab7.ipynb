{
  "nbformat": 4,
  "nbformat_minor": 0,
  "metadata": {
    "colab": {
      "provenance": [],
      "include_colab_link": true
    },
    "kernelspec": {
      "name": "python3",
      "display_name": "Python 3"
    },
    "language_info": {
      "name": "python"
    }
  },
  "cells": [
    {
      "cell_type": "markdown",
      "metadata": {
        "id": "view-in-github",
        "colab_type": "text"
      },
      "source": [
        "<a href=\"https://colab.research.google.com/github/Xilient/Python67/blob/main/Lab7.ipynb\" target=\"_parent\"><img src=\"https://colab.research.google.com/assets/colab-badge.svg\" alt=\"Open In Colab\"/></a>"
      ]
    },
    {
      "cell_type": "markdown",
      "source": [
        "รหัสนักศึกษา : 67015165     ชื่อ : นายอัษฎาวุธ พระทอง"
      ],
      "metadata": {
        "id": "UXzLtjMa17TG"
      }
    },
    {
      "cell_type": "markdown",
      "source": [
        "1.\tเขียนฟังก์ชัน add_score(subject_score, subject, score) โดยมีพารามิเตอร์ 3 ตัว ได้แก่ subject_score เป็น dictionary ที่มีคู่ key : value เป็น subject : score พารามิเตอร์ตัวที่ 2 และ 3 เป็น subject และ score โดย subject เป็น string และ score เป็น integer โดยให้นำ subject และ score ไปเพิ่มใน dictionary เช่น\n",
        "\n",
        "-Input : subject_score = { }, subject = ‘python’, score = 50\n",
        "-return : { ‘python’ : 50 }\n",
        "-input : subject_score = { ‘python’ : 50 }, subject = ‘calculus’, score = 60\n",
        "-return : { ‘python’ : 50, ‘calculus : 60 }\n",
        "\n",
        "\n",
        "จากนั้นให้เขียนฟังก์ชัน calc_average_score หาค่าเฉลี่ยของคะแนนในทุกรายวิชาใน dictionary ที่ได้จากฟังก์ชัน add_score โดยให้ส่งค่าคืนมาเป็น string ที่มีทศนิยม 2 ตำแหน่ง\n"
      ],
      "metadata": {
        "id": "os9RES5T2DNP"
      }
    },
    {
      "cell_type": "code",
      "source": [
        "def add_score(subject_score, subject, score):\n",
        "  subject_score[subject] = score\n",
        "  return subject_score\n",
        "\n",
        "dict = {}\n",
        "add_score(dict, 'python', 50) # => {'python' : 50}\n",
        "add_score(dict, 'calculus', 60) # => {'python' : 50, 'calculus' : 60}\n",
        "add_score(dict, 'Digital', 100) # => {'python' : 50, 'calculus' : 60, 'Digittal' : 100}\n",
        "print(dict)\n",
        "\n",
        "def calc_average_score(subject_score):\n",
        "    lens = len(subject_score)\n",
        "    average = sum(subject_score[key] for key in subject_score) / len(subject_score)\n",
        "    return format(average, '.2f')\n",
        "\n",
        "print(calc_average_score(dict))\n",
        "print(calc_average_score({ 'python' : 50, 'calculus' : 60 })) #=> '55.00'\n"
      ],
      "metadata": {
        "id": "LZGVVZVj3hLN",
        "outputId": "db6606d8-4050-4d12-a56a-0d345748f7a9",
        "colab": {
          "base_uri": "https://localhost:8080/"
        }
      },
      "execution_count": 21,
      "outputs": [
        {
          "output_type": "stream",
          "name": "stdout",
          "text": [
            "{'python': 50, 'calculus': 60, 'Digital': 100}\n",
            "70.00\n",
            "55.00\n"
          ]
        }
      ]
    },
    {
      "cell_type": "markdown",
      "source": [
        "2.\tให้นำโปรแกรมตามข้อ 1 มาขยายความสามารถให้รองรับนักศึกษาหลายคน โดยให้ refactor ฟังก์ชัน add_score ให้รับพารามิเตอร์เป็น add_score(subject_score, student, subject, score) โดย student เป็นข้อมูลของนักศึกษาเป็น string (ในที่นี้เป็น id) และ return เป็น dictionary\n",
        "\n",
        "- Input : subject_score = { }, student = '65010001', subject = 'python', score = 50\n",
        "- return : { '65010001' : { 'python' : 50 } }\n",
        "- input : subject_score = { '65010001' : { 'python' : 50 } },\n",
        "  student = '65010001', subject = ‘calculus’, score = 60\n",
        "- return : {'65010001': {'python’: 50,  'calculus', 60} }\n",
        "\n",
        "โดยหากชื่อมีข้อมูล key ใดที่มีใน dictionary อยู่แล้ว ให้ถือเป็นการ update ข้อมูลนั้น\n",
        "\n",
        "ให้ refactor ฟังก์ชัน calc_average_score โดยให้ส่งคืนเป็น dictionary ของนักศึกษาและคะแนนเฉลี่ยของนักศึกษาคนนั้น เช่น {'65010001': '55.00' }\n"
      ],
      "metadata": {
        "id": "5JcSUIBA4IDY"
      }
    },
    {
      "cell_type": "code",
      "execution_count": 24,
      "metadata": {
        "id": "QmJLbNje10SA",
        "outputId": "0bc758e0-be18-405f-d88e-a5fcfdefabb1",
        "colab": {
          "base_uri": "https://localhost:8080/"
        }
      },
      "outputs": [
        {
          "output_type": "stream",
          "name": "stdout",
          "text": [
            "{'65010001': {'python': 50}}\n",
            "{'65010001': {'python': 50, 'calculus': 60}}\n",
            "{'65010001': {'python': 50, 'calculus': 60, 'oop': 110}}\n",
            "{'65010001': {'python': 50, 'calculus': 60, 'oop': 110, 'Digital': 120}}\n",
            "{'65010001': {'python': 50, 'calculus': 60, 'oop': 110, 'Digital': 120}, '65010021': {'Programming Fundamental': 121}}\n",
            "{'65010001': {'python': 50, 'calculus': 60, 'oop': 110, 'Digital': 120}, '65010021': {'Programming Fundamental': 121, 'System platform': 10}}\n",
            "65010001: 85.00 \n",
            "65010021: 65.50 \n"
          ]
        }
      ],
      "source": [
        "def add_score(subject_score, student, subject, score):\n",
        "    if student not in subject_score:\n",
        "        subject_score[student] = {}\n",
        "    subject_score[student][subject] = score\n",
        "    return subject_score\n",
        "\n",
        "dict = {}\n",
        "print(add_score(dict, '65010001', 'python', 50)) # => {'65010001' : { 'python' : 50 } }\n",
        "print(add_score(dict, '65010001', 'calculus', 60)) # => {'65010001' : { 'python' : 50, 'calculus' : 60 }\n",
        "print(add_score(dict, '65010001', 'oop', 110)) # => {'65010001' : { 'python' : 50 } }\n",
        "print(add_score(dict, '65010001', 'Digital', 120)) # => {'65010001' : { 'python' : 50, 'calculus' : 60 }\n",
        "print(add_score(dict, '65010021', 'Programming Fundamental', 121)) # => {'65010001' : { 'python' : 50 } }\n",
        "print(add_score(dict, '65010021', 'System platform', 10)) # => {'65010001' : { 'python' : 50, 'calculus' : 60 }\n",
        "def calc_average_score(subject_score):\n",
        "    for student, scores in subject_score.items():\n",
        "        average = sum(scores.values()) / len(scores)\n",
        "        average = format(average, '.2f')\n",
        "        print(f'{student}: {average} ')\n",
        "\n",
        "calc_average_score(dict) # => {'65010001': '55.00' }"
      ]
    },
    {
      "cell_type": "markdown",
      "source": [
        "3.\tให้เขียนฟังก์ชัน is_plusone_dictionary(d) โดยรับพารามิเตอร์ 1 ตัว เป็นข้อมูลชนิด dictionary และให้ทดสอบว่า dictionary ที่รับเข้ามาเป็น plusone dictionary หรือไม่ ผลลัพธ์ให้ return เป็น True หรือ False โดย plusone dictionary คือ dictionary ที่ key และ value จะบวก 1 ต่อกันไปเรื่อยๆ  \n",
        "\n",
        "- Input :   {1:2, 3:4, 5:6, 7:8}\n",
        "- return : True\n",
        "\n",
        "อธิบาย : เพราะ key : value ต่างกันเป็น +1 ต่อกันไป\n",
        "- Input :   {1:2, 3:10, 5:6, 7:8}\n",
        "- return : False\n",
        "\n",
        "อธิบาย : เพราะ key, value ไม่เป็นไปตามลำดับ\n"
      ],
      "metadata": {
        "id": "Fv6l6uwo6Pki"
      }
    },
    {
      "cell_type": "code",
      "source": [
        "def is_plusone_dictionary(d):\n",
        "    keys = list(d.keys()) # Convert keys to a list\n",
        "    if len(keys) < 2: # Handle dictionaries with less than two keys\n",
        "        return False\n",
        "    for i in range(len(keys) - 1):\n",
        "        if keys[i] + 1 != d[keys[i]] or keys[i] + 2 != keys[i + 1]:\n",
        "            return False\n",
        "    return True\n",
        "\n",
        "print(is_plusone_dictionary({1:2, 3:4, 5:6, 7:8})) # => True\n",
        "print(is_plusone_dictionary({1:2, 3:10, 5:6, 7:8})) # => False\n",
        "\n"
      ],
      "metadata": {
        "id": "-yCKWw876aQs"
      },
      "execution_count": null,
      "outputs": []
    },
    {
      "cell_type": "markdown",
      "source": [
        "4.\tเขียนฟังก์ชัน char_count(str) โดยรับพารามิเตอร์ 1 ตัว เป็นข้อมูลชนิด string และให้ส่งคืนเป็น dictionary ที่มี key เป็นตัวอักษรแต่ละตัวของ string นั้น และ value คือ จำนวนครั้งที่ตัวอักษรนั้นปรากฏใน string เช่น\n",
        "\n",
        "- Input : 'language'\n",
        "- return : {'l': 1, 'a': 2, 'n': 1, 'g': 2, 'e': 1}\n"
      ],
      "metadata": {
        "id": "zxO80QGx6mnk"
      }
    },
    {
      "cell_type": "code",
      "source": [
        "def char_count(str):\n",
        "    count = {}\n",
        "    for char in str:\n",
        "        if char in count:\n",
        "            count[char] += 1\n",
        "        else:\n",
        "            count[char] = 1\n",
        "    return count\n",
        "\n",
        "print(char_count('language')) # => {'l': 1, 'a': 2, 'n': 1, 'g': 2, 'e': 1}\n",
        "print(char_count('awesome')) # => {'a': 1, 'e': 2, 'm': 1, 'o': 1, 'w': 1}\n",
        "print(char_count('me')) # => {'m': 1, 'e': 1}"
      ],
      "metadata": {
        "id": "PEu6wF5Y6rAE"
      },
      "execution_count": null,
      "outputs": []
    },
    {
      "cell_type": "markdown",
      "source": [
        "5.\tข้อมูลต่อไปนี้แทน music album แต่ละ album เก็บใน dictionary ซึ่งมีตัวเลข id เป็น key โดยแต่ละ album ไม่จำเป็นต้องมีข้อมูลครบ\n",
        "\n",
        "\n",
        "\n",
        "```\n",
        "record_collection = {\n",
        "  2548: {\n",
        "    albumTitle: 'Slippery When Wet',\n",
        "    artist: 'Bon Jovi',\n",
        "    tracks: ['Let It Rock', 'You Give Love a Bad Name']\n",
        "  },\n",
        "  2468: {\n",
        "    albumTitle: '1999',\n",
        "    artist: 'Prince',\n",
        "    tracks: ['1999', 'Little Red Corvette']\n",
        "  },\n",
        "  1245: {\n",
        "    artist: 'Robert Palmer',\n",
        "    tracks: []\n",
        "  },\n",
        "  5439: {\n",
        "    albumTitle: 'ABBA Gold'\n",
        "  }\n",
        "```\n",
        "\n",
        "\n",
        "\n",
        "ให้เขียนฟังก์ชัน update_records โดยรับพารามิเตอร์ 4 ตัว คือ 1) dictionary record 2) id 3) property (เช่น artist หรือ tracks 4) value โดยหน้าที่ของฟังก์ชัน คือ ให้เพิ่ม/เปลี่ยน ค่า property และ value ของ album ของ id ที่ส่งค่าไปในฟังก์ชัน โดยมีรายละเอียดดังนี้\n",
        "- ฟังก์ชันจะต้องส่งคืนข้อมูล record ทั้งหมดกลับมา\n",
        "- ถ้า property ไม่ใช่ tracks และ value ไม่ใช่ empty string ให้ update หรือ set ข้อมูล property กับ value ใน album นั้น\n",
        "- ถ้า property เป็น tracks แต่ album นั้นไม่มี tracks property ให้สร้าง List ใหม่และเพิ่มข้อมูลเข้าไปใน List นั้น\n",
        "- ถ้า property เป็น tracks และ value ไม่ใช่  empty string ให้เพิ่ม value ต่อท้ายใน List ของ tracks  \n",
        "- ถ้า value เป็น empty string ให้ลบข้อมูล property นั้นออกจาก album\n",
        "\n",
        "\n"
      ],
      "metadata": {
        "id": "2YPYGtFG6v2j"
      }
    },
    {
      "cell_type": "code",
      "source": [
        "record_collection = {\n",
        "  2548: {\n",
        "    'albumTitle': 'Slippery When Wet',\n",
        "    'artist': 'Bon Jovi',\n",
        "    'tracks': ['Let It Rock', 'You Give Love a Bad Name']\n",
        "  },\n",
        "  2468: {\n",
        "    'albumTitle': '1999',\n",
        "    'artist': 'Prince',\n",
        "    'tracks': ['1999', 'Little Red Corvette']\n",
        "  },\n",
        "  1245: {\n",
        "    'artist': 'Robert Palmer',\n",
        "    'tracks': []\n",
        "  },\n",
        "  5439: {\n",
        "    'albumTitle': 'ABBA Gold'\n",
        "  }\n",
        "}\n",
        "\n",
        "def update_records(record, id, propertys, value):\n",
        "    if id in record:\n",
        "        if propertys == 'tracks':\n",
        "            if value != '':\n",
        "                if 'tracks' in record[id]:\n",
        "                    record[id]['tracks'].append(value)\n",
        "                else:\n",
        "                    record[id]['tracks'] = [value]\n",
        "            else:\n",
        "                record[id]['tracks'] = value\n",
        "        else:\n",
        "            record[id][propertys] = value\n",
        "    return record\n",
        "\n",
        "rec = update_records(record_collection, 2548, 'artist', '') # ลบ artist ของ 2548\n",
        "# rec = update_records(record_collection, 2548, 'artist', 'Sting') # แก้ไข artist ของ 2548\n",
        "# rec = update_records(record_collection, 2548, 'tracks', 'wanted dead or alive') # เพิ่ม tracks ของ 2548\n",
        "# rec = update_records(record_collection, 2548, 'tracks', '') # ลบ tracks ของ 2548\n",
        "# rec = update_records(record_collection, 5439, 'tracks', 'I Put a Spell on You') # เพิ่ม tracks ของ 5439\n",
        "# rec = update_records(record_collection, 5439, 'artist', 'ABBA') # เพิ่ม artist ของ 5439\n",
        "# rec = update_records(record_collection, 5439, 'artist', 'Chicago') # แก้ไข artist ของ 5439\n",
        "# rec = update_records(record_collection, 1245, 'tracks', 'Addicted to Love') # เพิ่ม tracks ของ 1245\n",
        "# rec = update_records(record_collection, 5439, 'albumTitle', '') # ลบ albumTitle ของ 5439\n",
        "\n",
        "print(rec)\n",
        "\n"
      ],
      "metadata": {
        "id": "Q9T-P4hs8cqJ",
        "outputId": "05d68336-9c31-4922-934e-68ed5f813a95",
        "colab": {
          "base_uri": "https://localhost:8080/"
        }
      },
      "execution_count": 9,
      "outputs": [
        {
          "output_type": "stream",
          "name": "stdout",
          "text": [
            "{2548: {'albumTitle': 'Slippery When Wet', 'artist': '', 'tracks': ['Let It Rock', 'You Give Love a Bad Name']}, 2468: {'albumTitle': '1999', 'artist': 'Prince', 'tracks': ['1999', 'Little Red Corvette']}, 1245: {'artist': 'Robert Palmer', 'tracks': []}, 5439: {'albumTitle': 'ABBA Gold'}}\n"
          ]
        }
      ]
    },
    {
      "cell_type": "markdown",
      "source": [
        "ให้เขียนโปรแกรม หาขนาดไฟล์แต่ละไฟล์และขนาดไฟล์รวมใน directory\n",
        "https://github.com/khthana/Python67/blob/main/thai-handwritten-dataset.zip\n",
        "\n",
        "\n"
      ],
      "metadata": {
        "id": "UxUr35EWEDd8"
      }
    },
    {
      "cell_type": "code",
      "source": [
        "!git clone https://github.com/khthana/Python67/"
      ],
      "metadata": {
        "id": "ZP-9-SVeEJn6"
      },
      "execution_count": null,
      "outputs": []
    },
    {
      "cell_type": "code",
      "source": [
        "!unzip /content/Python67/thai-handwritten-dataset.zip -d /content/Python67/Dataset/"
      ],
      "metadata": {
        "id": "N3vz_VW7dPVD"
      },
      "execution_count": null,
      "outputs": []
    },
    {
      "cell_type": "code",
      "source": [
        "import os\n",
        "\n",
        "img_path = '/content/Python67/Dataset/thai-handwritten-dataset/0/0098326c-aa9e-410d-b949-e13d3cd74cfd.png'\n",
        "img_size = os.path.getsize(img_path)\n",
        "\n",
        "folder_path = '/content/Python67/Dataset/thai-handwritten-dataset'\n",
        "folder_size = os.path.getsize(folder_path)\n",
        "\n",
        "for root, dirs, files in os.walk(folder_path):\n",
        "    for file in files:\n",
        "        file_path = os.path.join(root, file)\n",
        "        folder_size += os.path.getsize(file_path)\n",
        "\n",
        "print(f\"The size of directory is: {folder_size} bytes\")\n",
        "print(f\"The size of img is: {img_size} bytes\")"
      ],
      "metadata": {
        "colab": {
          "base_uri": "https://localhost:8080/"
        },
        "id": "xbHcnYLTp--1",
        "outputId": "af3169c6-89ff-4a8f-dd09-8a433985ea5a"
      },
      "execution_count": null,
      "outputs": [
        {
          "output_type": "stream",
          "name": "stdout",
          "text": [
            "The size of directory is: 14609386 bytes\n",
            "The size of img is: 5418 bytes\n"
          ]
        }
      ]
    }
  ]
}